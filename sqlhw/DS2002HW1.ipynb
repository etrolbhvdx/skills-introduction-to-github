{
  "nbformat": 4,
  "nbformat_minor": 0,
  "metadata": {
    "colab": {
      "provenance": []
    },
    "kernelspec": {
      "name": "python3",
      "display_name": "Python 3"
    },
    "language_info": {
      "name": "python"
    }
  },
  "cells": [
    {
      "cell_type": "markdown",
      "source": [
        "## **Step 1: Setting up the database**\n"
      ],
      "metadata": {
        "id": "IDnhlvoblySZ"
      }
    },
    {
      "cell_type": "code",
      "execution_count": 1,
      "metadata": {
        "colab": {
          "base_uri": "https://localhost:8080/"
        },
        "id": "47qNQzhiQ2Ay",
        "outputId": "7e6e2597-054f-45ea-e759-e443225ce97c"
      },
      "outputs": [
        {
          "output_type": "stream",
          "name": "stdout",
          "text": [
            "Database created and connected!\n",
            "Cursor created!\n"
          ]
        }
      ],
      "source": [
        "import sqlite3\n",
        "\n",
        "# Create or connect to an SQLite database\n",
        "connection = sqlite3.connect('student_grades.db')\n",
        "\n",
        "# Check if the connection was successful\n",
        "print(\"Database created and connected!\")\n",
        "\n",
        "# Create a cursor object\n",
        "cursor = connection.cursor()\n",
        "\n",
        "# Explanation\n",
        "print(\"Cursor created!\")"
      ]
    },
    {
      "cell_type": "markdown",
      "source": [
        "## **Step 2: Create Tables**"
      ],
      "metadata": {
        "id": "ZY5OhHTamUkw"
      }
    },
    {
      "cell_type": "code",
      "source": [
        "# Create the sales table\n",
        "cursor.execute('''\n",
        "CREATE TABLE IF NOT EXISTS students (\n",
        "    student_id INTEGER PRIMARY KEY AUTOINCREMENT,\n",
        "    first_name TEXT NOT NULL,\n",
        "    last_name TEXT NOT NULL\n",
        ")\n",
        "''')\n",
        "\n",
        "cursor.execute('''\n",
        "CREATE TABLE IF NOT EXISTS grades (\n",
        "    grade_id INTEGER PRIMARY KEY AUTOINCREMENT,\n",
        "    student_id INTEGER,\n",
        "    subject TEXT NOT NULL,\n",
        "    grade INTEGER,\n",
        "    FOREIGN KEY (student_id) REFERENCES students (id)\n",
        ")\n",
        "''')\n",
        "\n",
        "print(\"Tables created!\")"
      ],
      "metadata": {
        "colab": {
          "base_uri": "https://localhost:8080/"
        },
        "id": "kBD_Q7U5maH6",
        "outputId": "4cc079f4-ea78-44fa-c09a-c9110feb9160"
      },
      "execution_count": 2,
      "outputs": [
        {
          "output_type": "stream",
          "name": "stdout",
          "text": [
            "Tables created!\n"
          ]
        }
      ]
    },
    {
      "cell_type": "code",
      "source": [
        "#uncomment to drop the tables\n",
        "#cursor.execute(\"DROP TABLE IF EXISTS grades\")\n",
        "#cursor.execute(\"DROP TABLE IF EXISTS students\")\n",
        "#print(\"Table has been dropped.\")\n",
        "#connection.commit()"
      ],
      "metadata": {
        "id": "xa3MjEBsudwV"
      },
      "execution_count": 6,
      "outputs": []
    },
    {
      "cell_type": "markdown",
      "source": [
        "## **Step 3: Insert Data**"
      ],
      "metadata": {
        "id": "Iopum3bTpcYs"
      }
    },
    {
      "cell_type": "code",
      "source": [
        "# Sample data to insert into the students table\n",
        "students_data = [\n",
        "    (1,'Alice','Johnson'),\n",
        "    (2,'Bob','Smith'),\n",
        "    (3,'Carol','White'),\n",
        "    (4,'David','Brown'),\n",
        "    (5,'Eve','Davis')\n",
        "]\n",
        "\n",
        "# Insert data into the table\n",
        "cursor.executemany('''\n",
        "INSERT INTO students (student_id, first_name, last_name) VALUES (?, ?, ?)\n",
        "''', students_data)\n",
        "\n",
        "# Commit the transaction\n",
        "connection.commit()\n",
        "\n",
        "print(\"Data inserted into the students table!\")"
      ],
      "metadata": {
        "colab": {
          "base_uri": "https://localhost:8080/"
        },
        "id": "YpZFNVkypTW1",
        "outputId": "edbfb37d-da66-4633-de71-62f0dff6c308"
      },
      "execution_count": 3,
      "outputs": [
        {
          "output_type": "stream",
          "name": "stdout",
          "text": [
            "Data inserted into the students table!\n"
          ]
        }
      ]
    },
    {
      "cell_type": "code",
      "source": [
        "# Sample data for the grades table\n",
        "grades_data = [\n",
        "    (1,1,'Math',95),\n",
        "    (2,1,'English',88),\n",
        "    (3,1,'History',90),\n",
        "    (4,2,'Math',82),\n",
        "    (5,2,'English',76),\n",
        "    (6,2,'History',85),\n",
        "    (7,3,'Math',50),\n",
        "    (8,3,'English',40),\n",
        "    (9,3,'History',40),\n",
        "    (10,4,'Math',81),\n",
        "    (11,4,'English',88),\n",
        "    (12,4,'History',100),\n",
        "    (13,5,'Math',100),\n",
        "    (14,5,'English',100),\n",
        "    (15,5,'History',98),\n",
        "]\n",
        "\n",
        "# Insert data into the grades table\n",
        "cursor.executemany('''\n",
        "INSERT INTO grades (grade_id, student_id, subject, grade) VALUES (?, ?, ?, ?)\n",
        "''', grades_data)\n",
        "\n",
        "# Commit the transaction\n",
        "connection.commit()\n",
        "\n",
        "print(\"Data inserted into the grades table!\")\n"
      ],
      "metadata": {
        "colab": {
          "base_uri": "https://localhost:8080/"
        },
        "id": "gKRFZxKhq_vu",
        "outputId": "f0cea0df-f904-4a5c-f5a9-709b99c1917a"
      },
      "execution_count": 4,
      "outputs": [
        {
          "output_type": "stream",
          "name": "stdout",
          "text": [
            "Data inserted into the grades table!\n"
          ]
        }
      ]
    },
    {
      "cell_type": "markdown",
      "source": [
        "## **Perform SQL Queries**"
      ],
      "metadata": {
        "id": "_ItJpjwOs4f8"
      }
    },
    {
      "cell_type": "code",
      "source": [
        "# Retrieve all students' names and their grades.\n",
        "cursor.execute('''\n",
        "SELECT students.first_name, students.last_name, grades.grade, grades.subject\n",
        "FROM students\n",
        "JOIN grades ON grades.student_id = students.student_id\n",
        "''')\n",
        "rows = cursor.fetchall()\n",
        "print(\"All students and grades:\")\n",
        "for row in rows:\n",
        "    print(row)\n",
        "\n",
        "# Find the average grade for each student.\n",
        "cursor.execute('''\n",
        "SELECT students.first_name, students.last_name, AVG(grades.grade)\n",
        "FROM students\n",
        "JOIN grades ON grades.student_id = students.student_id\n",
        "GROUP BY grades.student_id\n",
        "''')\n",
        "rows = cursor.fetchall()\n",
        "print(\"Average grades:\")\n",
        "for row in rows:\n",
        "    print(row)\n",
        "\n",
        "# Find the student with the highest average grade.\n",
        "cursor.execute('''\n",
        "SELECT students.first_name, students.last_name, AVG(grades.grade) AS avg\n",
        "FROM students\n",
        "JOIN grades ON grades.student_id = students.student_id\n",
        "GROUP BY grades.student_id\n",
        "ORDER BY avg DESC LIMIT 1\n",
        "''')\n",
        "rows = cursor.fetchall()\n",
        "print(\"Highest average:\")\n",
        "for row in rows:\n",
        "    print(row)\n",
        "\n",
        "# Find the average grade for the Math subject.\n",
        "cursor.execute('''\n",
        "SELECT grades.subject, AVG(grades.grade) AS avg\n",
        "FROM grades\n",
        "WHERE grades.subject == 'Math'\n",
        "GROUP BY grades.subject\n",
        "''')\n",
        "rows = cursor.fetchall()\n",
        "print(\"Math average:\")\n",
        "for row in rows:\n",
        "    print(row)\n",
        "\n",
        "# List all students who scored above 90 in any subject\n",
        "cursor.execute('''\n",
        "SELECT students.first_name, students.last_name, grades.grade, grades.subject\n",
        "FROM students\n",
        "JOIN grades ON grades.student_id = students.student_id\n",
        "WHERE grades.grade > 90\n",
        "''')\n",
        "rows = cursor.fetchall()\n",
        "print(\"All students and grades strictly above 90:\")\n",
        "for row in rows:\n",
        "    print(row)"
      ],
      "metadata": {
        "colab": {
          "base_uri": "https://localhost:8080/"
        },
        "id": "7BNcvLUfs9oY",
        "outputId": "a71bbd27-609d-432b-9bc1-28e75b366649"
      },
      "execution_count": 5,
      "outputs": [
        {
          "output_type": "stream",
          "name": "stdout",
          "text": [
            "All students and grades:\n",
            "('Alice', 'Johnson', 95, 'Math')\n",
            "('Alice', 'Johnson', 88, 'English')\n",
            "('Alice', 'Johnson', 90, 'History')\n",
            "('Bob', 'Smith', 82, 'Math')\n",
            "('Bob', 'Smith', 76, 'English')\n",
            "('Bob', 'Smith', 85, 'History')\n",
            "('Carol', 'White', 50, 'Math')\n",
            "('Carol', 'White', 40, 'English')\n",
            "('Carol', 'White', 40, 'History')\n",
            "('David', 'Brown', 81, 'Math')\n",
            "('David', 'Brown', 88, 'English')\n",
            "('David', 'Brown', 100, 'History')\n",
            "('Eve', 'Davis', 100, 'Math')\n",
            "('Eve', 'Davis', 100, 'English')\n",
            "('Eve', 'Davis', 98, 'History')\n",
            "Average grades:\n",
            "('Alice', 'Johnson', 91.0)\n",
            "('Bob', 'Smith', 81.0)\n",
            "('Carol', 'White', 43.333333333333336)\n",
            "('David', 'Brown', 89.66666666666667)\n",
            "('Eve', 'Davis', 99.33333333333333)\n",
            "Highest average:\n",
            "('Eve', 'Davis', 99.33333333333333)\n",
            "Math average:\n",
            "('Math', 81.6)\n",
            "All students and grades strictly above 90:\n",
            "('Alice', 'Johnson', 95, 'Math')\n",
            "('David', 'Brown', 100, 'History')\n",
            "('Eve', 'Davis', 100, 'Math')\n",
            "('Eve', 'Davis', 100, 'English')\n",
            "('Eve', 'Davis', 98, 'History')\n"
          ]
        }
      ]
    },
    {
      "cell_type": "markdown",
      "source": [
        "## **Step 5: Load Data into Pandas**"
      ],
      "metadata": {
        "id": "_2RsZ4sW37wV"
      }
    },
    {
      "cell_type": "code",
      "source": [
        "import pandas as pd\n",
        "\n",
        "student_dataframe=pd.read_sql_query('SELECT * FROM students',connection)\n",
        "grade_dataframe=pd.read_sql_query('SELECT * FROM grades',connection)\n",
        "joined_dataframe=pd.read_sql_query('''\n",
        "SELECT students.first_name, students.last_name, grades.grade, grades.subject\n",
        "FROM students\n",
        "JOIN grades ON grades.student_id = students.student_id\n",
        "''',connection)\n",
        "joined_dataframe.head()"
      ],
      "metadata": {
        "colab": {
          "base_uri": "https://localhost:8080/",
          "height": 206
        },
        "id": "BZyoqWom4sYc",
        "outputId": "d53ddbfc-4090-42a7-82a9-bd7afb7871c5"
      },
      "execution_count": 7,
      "outputs": [
        {
          "output_type": "execute_result",
          "data": {
            "text/plain": [
              "  first_name last_name  grade  subject\n",
              "0      Alice   Johnson     95     Math\n",
              "1      Alice   Johnson     88  English\n",
              "2      Alice   Johnson     90  History\n",
              "3        Bob     Smith     82     Math\n",
              "4        Bob     Smith     76  English"
            ],
            "text/html": [
              "\n",
              "  <div id=\"df-f2dc9973-2f1f-45e5-98f1-f7b9a3295513\" class=\"colab-df-container\">\n",
              "    <div>\n",
              "<style scoped>\n",
              "    .dataframe tbody tr th:only-of-type {\n",
              "        vertical-align: middle;\n",
              "    }\n",
              "\n",
              "    .dataframe tbody tr th {\n",
              "        vertical-align: top;\n",
              "    }\n",
              "\n",
              "    .dataframe thead th {\n",
              "        text-align: right;\n",
              "    }\n",
              "</style>\n",
              "<table border=\"1\" class=\"dataframe\">\n",
              "  <thead>\n",
              "    <tr style=\"text-align: right;\">\n",
              "      <th></th>\n",
              "      <th>first_name</th>\n",
              "      <th>last_name</th>\n",
              "      <th>grade</th>\n",
              "      <th>subject</th>\n",
              "    </tr>\n",
              "  </thead>\n",
              "  <tbody>\n",
              "    <tr>\n",
              "      <th>0</th>\n",
              "      <td>Alice</td>\n",
              "      <td>Johnson</td>\n",
              "      <td>95</td>\n",
              "      <td>Math</td>\n",
              "    </tr>\n",
              "    <tr>\n",
              "      <th>1</th>\n",
              "      <td>Alice</td>\n",
              "      <td>Johnson</td>\n",
              "      <td>88</td>\n",
              "      <td>English</td>\n",
              "    </tr>\n",
              "    <tr>\n",
              "      <th>2</th>\n",
              "      <td>Alice</td>\n",
              "      <td>Johnson</td>\n",
              "      <td>90</td>\n",
              "      <td>History</td>\n",
              "    </tr>\n",
              "    <tr>\n",
              "      <th>3</th>\n",
              "      <td>Bob</td>\n",
              "      <td>Smith</td>\n",
              "      <td>82</td>\n",
              "      <td>Math</td>\n",
              "    </tr>\n",
              "    <tr>\n",
              "      <th>4</th>\n",
              "      <td>Bob</td>\n",
              "      <td>Smith</td>\n",
              "      <td>76</td>\n",
              "      <td>English</td>\n",
              "    </tr>\n",
              "  </tbody>\n",
              "</table>\n",
              "</div>\n",
              "    <div class=\"colab-df-buttons\">\n",
              "\n",
              "  <div class=\"colab-df-container\">\n",
              "    <button class=\"colab-df-convert\" onclick=\"convertToInteractive('df-f2dc9973-2f1f-45e5-98f1-f7b9a3295513')\"\n",
              "            title=\"Convert this dataframe to an interactive table.\"\n",
              "            style=\"display:none;\">\n",
              "\n",
              "  <svg xmlns=\"http://www.w3.org/2000/svg\" height=\"24px\" viewBox=\"0 -960 960 960\">\n",
              "    <path d=\"M120-120v-720h720v720H120Zm60-500h600v-160H180v160Zm220 220h160v-160H400v160Zm0 220h160v-160H400v160ZM180-400h160v-160H180v160Zm440 0h160v-160H620v160ZM180-180h160v-160H180v160Zm440 0h160v-160H620v160Z\"/>\n",
              "  </svg>\n",
              "    </button>\n",
              "\n",
              "  <style>\n",
              "    .colab-df-container {\n",
              "      display:flex;\n",
              "      gap: 12px;\n",
              "    }\n",
              "\n",
              "    .colab-df-convert {\n",
              "      background-color: #E8F0FE;\n",
              "      border: none;\n",
              "      border-radius: 50%;\n",
              "      cursor: pointer;\n",
              "      display: none;\n",
              "      fill: #1967D2;\n",
              "      height: 32px;\n",
              "      padding: 0 0 0 0;\n",
              "      width: 32px;\n",
              "    }\n",
              "\n",
              "    .colab-df-convert:hover {\n",
              "      background-color: #E2EBFA;\n",
              "      box-shadow: 0px 1px 2px rgba(60, 64, 67, 0.3), 0px 1px 3px 1px rgba(60, 64, 67, 0.15);\n",
              "      fill: #174EA6;\n",
              "    }\n",
              "\n",
              "    .colab-df-buttons div {\n",
              "      margin-bottom: 4px;\n",
              "    }\n",
              "\n",
              "    [theme=dark] .colab-df-convert {\n",
              "      background-color: #3B4455;\n",
              "      fill: #D2E3FC;\n",
              "    }\n",
              "\n",
              "    [theme=dark] .colab-df-convert:hover {\n",
              "      background-color: #434B5C;\n",
              "      box-shadow: 0px 1px 3px 1px rgba(0, 0, 0, 0.15);\n",
              "      filter: drop-shadow(0px 1px 2px rgba(0, 0, 0, 0.3));\n",
              "      fill: #FFFFFF;\n",
              "    }\n",
              "  </style>\n",
              "\n",
              "    <script>\n",
              "      const buttonEl =\n",
              "        document.querySelector('#df-f2dc9973-2f1f-45e5-98f1-f7b9a3295513 button.colab-df-convert');\n",
              "      buttonEl.style.display =\n",
              "        google.colab.kernel.accessAllowed ? 'block' : 'none';\n",
              "\n",
              "      async function convertToInteractive(key) {\n",
              "        const element = document.querySelector('#df-f2dc9973-2f1f-45e5-98f1-f7b9a3295513');\n",
              "        const dataTable =\n",
              "          await google.colab.kernel.invokeFunction('convertToInteractive',\n",
              "                                                    [key], {});\n",
              "        if (!dataTable) return;\n",
              "\n",
              "        const docLinkHtml = 'Like what you see? Visit the ' +\n",
              "          '<a target=\"_blank\" href=https://colab.research.google.com/notebooks/data_table.ipynb>data table notebook</a>'\n",
              "          + ' to learn more about interactive tables.';\n",
              "        element.innerHTML = '';\n",
              "        dataTable['output_type'] = 'display_data';\n",
              "        await google.colab.output.renderOutput(dataTable, element);\n",
              "        const docLink = document.createElement('div');\n",
              "        docLink.innerHTML = docLinkHtml;\n",
              "        element.appendChild(docLink);\n",
              "      }\n",
              "    </script>\n",
              "  </div>\n",
              "\n",
              "\n",
              "<div id=\"df-7c0123d6-8388-4426-a867-7be5c476debb\">\n",
              "  <button class=\"colab-df-quickchart\" onclick=\"quickchart('df-7c0123d6-8388-4426-a867-7be5c476debb')\"\n",
              "            title=\"Suggest charts\"\n",
              "            style=\"display:none;\">\n",
              "\n",
              "<svg xmlns=\"http://www.w3.org/2000/svg\" height=\"24px\"viewBox=\"0 0 24 24\"\n",
              "     width=\"24px\">\n",
              "    <g>\n",
              "        <path d=\"M19 3H5c-1.1 0-2 .9-2 2v14c0 1.1.9 2 2 2h14c1.1 0 2-.9 2-2V5c0-1.1-.9-2-2-2zM9 17H7v-7h2v7zm4 0h-2V7h2v10zm4 0h-2v-4h2v4z\"/>\n",
              "    </g>\n",
              "</svg>\n",
              "  </button>\n",
              "\n",
              "<style>\n",
              "  .colab-df-quickchart {\n",
              "      --bg-color: #E8F0FE;\n",
              "      --fill-color: #1967D2;\n",
              "      --hover-bg-color: #E2EBFA;\n",
              "      --hover-fill-color: #174EA6;\n",
              "      --disabled-fill-color: #AAA;\n",
              "      --disabled-bg-color: #DDD;\n",
              "  }\n",
              "\n",
              "  [theme=dark] .colab-df-quickchart {\n",
              "      --bg-color: #3B4455;\n",
              "      --fill-color: #D2E3FC;\n",
              "      --hover-bg-color: #434B5C;\n",
              "      --hover-fill-color: #FFFFFF;\n",
              "      --disabled-bg-color: #3B4455;\n",
              "      --disabled-fill-color: #666;\n",
              "  }\n",
              "\n",
              "  .colab-df-quickchart {\n",
              "    background-color: var(--bg-color);\n",
              "    border: none;\n",
              "    border-radius: 50%;\n",
              "    cursor: pointer;\n",
              "    display: none;\n",
              "    fill: var(--fill-color);\n",
              "    height: 32px;\n",
              "    padding: 0;\n",
              "    width: 32px;\n",
              "  }\n",
              "\n",
              "  .colab-df-quickchart:hover {\n",
              "    background-color: var(--hover-bg-color);\n",
              "    box-shadow: 0 1px 2px rgba(60, 64, 67, 0.3), 0 1px 3px 1px rgba(60, 64, 67, 0.15);\n",
              "    fill: var(--button-hover-fill-color);\n",
              "  }\n",
              "\n",
              "  .colab-df-quickchart-complete:disabled,\n",
              "  .colab-df-quickchart-complete:disabled:hover {\n",
              "    background-color: var(--disabled-bg-color);\n",
              "    fill: var(--disabled-fill-color);\n",
              "    box-shadow: none;\n",
              "  }\n",
              "\n",
              "  .colab-df-spinner {\n",
              "    border: 2px solid var(--fill-color);\n",
              "    border-color: transparent;\n",
              "    border-bottom-color: var(--fill-color);\n",
              "    animation:\n",
              "      spin 1s steps(1) infinite;\n",
              "  }\n",
              "\n",
              "  @keyframes spin {\n",
              "    0% {\n",
              "      border-color: transparent;\n",
              "      border-bottom-color: var(--fill-color);\n",
              "      border-left-color: var(--fill-color);\n",
              "    }\n",
              "    20% {\n",
              "      border-color: transparent;\n",
              "      border-left-color: var(--fill-color);\n",
              "      border-top-color: var(--fill-color);\n",
              "    }\n",
              "    30% {\n",
              "      border-color: transparent;\n",
              "      border-left-color: var(--fill-color);\n",
              "      border-top-color: var(--fill-color);\n",
              "      border-right-color: var(--fill-color);\n",
              "    }\n",
              "    40% {\n",
              "      border-color: transparent;\n",
              "      border-right-color: var(--fill-color);\n",
              "      border-top-color: var(--fill-color);\n",
              "    }\n",
              "    60% {\n",
              "      border-color: transparent;\n",
              "      border-right-color: var(--fill-color);\n",
              "    }\n",
              "    80% {\n",
              "      border-color: transparent;\n",
              "      border-right-color: var(--fill-color);\n",
              "      border-bottom-color: var(--fill-color);\n",
              "    }\n",
              "    90% {\n",
              "      border-color: transparent;\n",
              "      border-bottom-color: var(--fill-color);\n",
              "    }\n",
              "  }\n",
              "</style>\n",
              "\n",
              "  <script>\n",
              "    async function quickchart(key) {\n",
              "      const quickchartButtonEl =\n",
              "        document.querySelector('#' + key + ' button');\n",
              "      quickchartButtonEl.disabled = true;  // To prevent multiple clicks.\n",
              "      quickchartButtonEl.classList.add('colab-df-spinner');\n",
              "      try {\n",
              "        const charts = await google.colab.kernel.invokeFunction(\n",
              "            'suggestCharts', [key], {});\n",
              "      } catch (error) {\n",
              "        console.error('Error during call to suggestCharts:', error);\n",
              "      }\n",
              "      quickchartButtonEl.classList.remove('colab-df-spinner');\n",
              "      quickchartButtonEl.classList.add('colab-df-quickchart-complete');\n",
              "    }\n",
              "    (() => {\n",
              "      let quickchartButtonEl =\n",
              "        document.querySelector('#df-7c0123d6-8388-4426-a867-7be5c476debb button');\n",
              "      quickchartButtonEl.style.display =\n",
              "        google.colab.kernel.accessAllowed ? 'block' : 'none';\n",
              "    })();\n",
              "  </script>\n",
              "</div>\n",
              "\n",
              "    </div>\n",
              "  </div>\n"
            ],
            "application/vnd.google.colaboratory.intrinsic+json": {
              "type": "dataframe",
              "variable_name": "joined_dataframe",
              "summary": "{\n  \"name\": \"joined_dataframe\",\n  \"rows\": 15,\n  \"fields\": [\n    {\n      \"column\": \"first_name\",\n      \"properties\": {\n        \"dtype\": \"category\",\n        \"num_unique_values\": 5,\n        \"samples\": [\n          \"Bob\",\n          \"Eve\",\n          \"Carol\"\n        ],\n        \"semantic_type\": \"\",\n        \"description\": \"\"\n      }\n    },\n    {\n      \"column\": \"last_name\",\n      \"properties\": {\n        \"dtype\": \"category\",\n        \"num_unique_values\": 5,\n        \"samples\": [\n          \"Smith\",\n          \"Davis\",\n          \"White\"\n        ],\n        \"semantic_type\": \"\",\n        \"description\": \"\"\n      }\n    },\n    {\n      \"column\": \"grade\",\n      \"properties\": {\n        \"dtype\": \"number\",\n        \"std\": 20,\n        \"min\": 40,\n        \"max\": 100,\n        \"num_unique_values\": 11,\n        \"samples\": [\n          85,\n          95,\n          100\n        ],\n        \"semantic_type\": \"\",\n        \"description\": \"\"\n      }\n    },\n    {\n      \"column\": \"subject\",\n      \"properties\": {\n        \"dtype\": \"category\",\n        \"num_unique_values\": 3,\n        \"samples\": [\n          \"Math\",\n          \"English\",\n          \"History\"\n        ],\n        \"semantic_type\": \"\",\n        \"description\": \"\"\n      }\n    }\n  ]\n}"
            }
          },
          "metadata": {},
          "execution_count": 7
        }
      ]
    },
    {
      "cell_type": "code",
      "source": [
        "import matplotlib.pyplot as plt\n",
        "\n",
        "avg_dataframe=pd.read_sql_query('''\n",
        "SELECT students.first_name, students.last_name, AVG(grades.grade) AS avg\n",
        "FROM students\n",
        "JOIN grades ON grades.student_id = students.student_id\n",
        "GROUP BY grades.student_id\n",
        "''',connection)\n",
        "\n",
        "avg_dataframe_sub=pd.read_sql_query('''\n",
        "SELECT grades.subject, AVG(grades.grade) AS avg\n",
        "FROM grades\n",
        "GROUP BY grades.subject\n",
        "''',connection)\n",
        "\n",
        "plt.figure(figsize=(10,6))\n",
        "plt.bar(avg_dataframe['first_name'],avg_dataframe['avg'])\n",
        "plt.xlabel('Student')\n",
        "plt.ylabel('Average')\n",
        "plt.title('Student Grade Averages')\n",
        "plt.show()\n",
        "\n",
        "plt.figure(figsize=(10,6))\n",
        "plt.bar(avg_dataframe_sub['subject'],avg_dataframe_sub['avg'],color='red')\n",
        "plt.xlabel('Subject')\n",
        "plt.ylabel('Average')\n",
        "plt.title('Subject Grade Averages')\n",
        "plt.show()"
      ],
      "metadata": {
        "colab": {
          "base_uri": "https://localhost:8080/",
          "height": 1000
        },
        "id": "KzNXQuQq6XTx",
        "outputId": "93f77493-ba7d-4acb-c415-076e038482c2"
      },
      "execution_count": 8,
      "outputs": [
        {
          "output_type": "display_data",
          "data": {
            "text/plain": [
              "<Figure size 1000x600 with 1 Axes>"
            ],
            "image/png": "[encoded data removed]"
          },
          "metadata": {}
        },
        {
          "output_type": "display_data",
          "data": {
            "text/plain": [
              "<Figure size 1000x600 with 1 Axes>"
            ],
            "image/png": "[encoded data removed]"
          },
          "metadata": {}
        }
      ]
    },
    {
      "cell_type": "markdown",
      "source": [
        "## **Bonus**"
      ],
      "metadata": {
        "id": "2NyBsz1y-Jeu"
      }
    },
    {
      "cell_type": "code",
      "source": [
        "cursor.execute('''\n",
        "SELECT students.first_name, students.last_name, grades.subject, MAX(grades.grade)\n",
        "FROM students\n",
        "JOIN grades ON grades.student_id = students.student_id\n",
        "GROUP BY grades.subject\n",
        "''')\n",
        "rows = cursor.fetchall()\n",
        "print(\"Highest average:\")\n",
        "for row in rows:\n",
        "    print(row)\n",
        "\n",
        "students = [row[0] for row in rows]\n",
        "subjects = [row[2] for row in rows]\n",
        "grades = [row[3] for row in rows]\n",
        "unique_students = list(set(students))\n",
        "colors=[\"red\",\"blue\"]\n",
        "\n",
        "fig, ax = plt.subplots()\n",
        "ax.bar(subjects[0],grades[0],color=colors[0],label=students[0])\n",
        "ax.bar(subjects[1],grades[1],color=colors[1],label=students[1])\n",
        "ax.bar(subjects[2],grades[2],color=colors[0],label=students[2])\n",
        "ax.set_xlabel('Subjects')\n",
        "ax.set_ylabel('Grades')\n",
        "ax.set_title('Highest Grades per Subject')\n",
        "handles=[plt.Line2D([0],[0],color=colors[0],lw=4),plt.Line2D([0],[0],color=colors[1],lw=4)]\n",
        "ax.legend(handles,unique_students[::-1],title=\"Students\")\n",
        "\n",
        "# Display the plot\n",
        "plt.show()"
      ],
      "metadata": {
        "colab": {
          "base_uri": "https://localhost:8080/",
          "height": 543
        },
        "id": "BzghkMsK-Wb5",
        "outputId": "995e3ab7-c47c-484a-d3c2-166ab078e72a"
      },
      "execution_count": 17,
      "outputs": [
        {
          "output_type": "stream",
          "name": "stdout",
          "text": [
            "Highest average:\n",
            "('Eve', 'Davis', 'English', 100)\n",
            "('David', 'Brown', 'History', 100)\n",
            "('Eve', 'Davis', 'Math', 100)\n"
          ]
        },
        {
          "output_type": "display_data",
          "data": {
            "text/plain": [
              "<Figure size 640x480 with 1 Axes>"
            ],
            "image/png": "[encoded data removed]"
          },
          "metadata": {}
        }
      ]
    }
  ]
}